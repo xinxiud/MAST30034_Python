from urllib.request import urlretrieve


